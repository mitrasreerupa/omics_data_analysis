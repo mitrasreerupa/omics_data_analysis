{
  "nbformat": 4,
  "nbformat_minor": 0,
  "metadata": {
    "colab": {
      "provenance": []
    },
    "kernelspec": {
      "name": "python3",
      "display_name": "Python 3"
    },
    "language_info": {
      "name": "python"
    }
  },
  "cells": [
    {
      "cell_type": "code",
      "source": [
        "#function to check if a string of letters is DNA or not\n",
        "def is_dna_sequence(sequence):\n",
        "    valid_bases = {'A', 'T', 'C', 'G'}\n",
        "    sequence = sequence.upper()               # Convert the sequence to uppercase to handle lowercase letters\n",
        "    return all(base in valid_bases for base in sequence)            # Check if all characters in the sequence are valid DNA bases\n",
        "\n",
        "#to extract sequence from a fasta file\n",
        "def extract_sequence_from_fasta(fasta_input):\n",
        "    lines = fasta_input.split('\\n')  # Split input by lines\n",
        "    sequence_lines = [line.strip() for line in lines if not line.startswith('>')]\n",
        "    sequence = ''.join(sequence_lines)\n",
        "    return sequence\n",
        "\n",
        "#calculate DNA sequence length\n",
        "def calculate_sequence_length(sequence):\n",
        "    return len(sequence)\n",
        "\n",
        "# Test the function\n",
        "seq = \"\"\n",
        "sequence_1 = '''>sequence_1\n",
        "ATCGATCGATCGATCGATCGATCGATCGAA\n",
        "AGCTAGCTAGCTAGCTAGCTAGCTAGCTGC'''                         # Valid DNA sequence\n",
        "\n",
        "sequence_2 = '''>sequence_2\n",
        "ATCGATCGATCGATCGATCGATCGATCGGC\n",
        "AGCTAGCTAGCTABJGCXXTANGGIGCTAA'''\n",
        "\n",
        "seq_1 = extract_sequence_from_fasta(sequence_1)\n",
        "seq_2 = extract_sequence_from_fasta(sequence_2)\n",
        "\n",
        "if is_dna_sequence(seq_1) == True:\n",
        "  print(\"Sequence 1 is a valid DNA sequence\")\n",
        "  print(\"Length of DNA sequence is:\",calculate_sequence_length(seq_1),\"\\n\")\n",
        "else:\n",
        "  print(\"Sequence 1 is an invalid DNA sequence\")\n",
        "\n",
        "if is_dna_sequence(seq_2) == True:\n",
        "  print(\"Sequence 2 is a valid DNA sequence\")\n",
        "  print(\"Length of DNA sequence is:\",calculate_sequence_length(seq_2))\n",
        "else:\n",
        "  print(\"Sequence 2 is an invalid DNA sequence\")"
      ],
      "metadata": {
        "colab": {
          "base_uri": "https://localhost:8080/"
        },
        "id": "xXtwB9arj6ii",
        "outputId": "378b15d5-4798-4ffb-ecc4-1d0e425a4729"
      },
      "execution_count": 2,
      "outputs": [
        {
          "output_type": "stream",
          "name": "stdout",
          "text": [
            "Sequence 1 is a valid DNA sequence\n",
            "Length of DNA sequence is: 60 \n",
            "\n",
            "Sequence 2 is an invalid DNA sequence\n"
          ]
        }
      ]
    }
  ]
}