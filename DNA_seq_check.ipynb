{
  "nbformat": 4,
  "nbformat_minor": 0,
  "metadata": {
    "colab": {
      "provenance": []
    },
    "kernelspec": {
      "name": "python3",
      "display_name": "Python 3"
    },
    "language_info": {
      "name": "python"
    }
  },
  "cells": [
    {
      "cell_type": "code",
      "source": [
        "#function to check if a string of letters is DNA or not\n",
        "def is_dna_sequence(sequence):\n",
        "    valid_bases = {'A', 'T', 'C', 'G'}\n",
        "    sequence = sequence.upper()               # Convert the sequence to uppercase to handle lowercase letters\n",
        "    return all(base in valid_bases for base in sequence)            # Check if all characters in the sequence are valid DNA bases\n",
        "\n",
        "#to extract sequence from a fasta file\n",
        "def extract_sequence_from_fasta(fasta_input):\n",
        "    lines = fasta_input.split('\\n')  # Split input by lines\n",
        "    sequence_lines = [line.strip() for line in lines if not line.startswith('>')]\n",
        "    sequence = ''.join(sequence_lines)\n",
        "    return sequence\n",
        "\n",
        "# Test the function\n",
        "seq = \"\"\n",
        "sequence_1 = '''>sequence_1\n",
        "ATCGATCGATCGATCGATCGATCGATCG\n",
        "AGCTAGCTAGCTAGCTAGCTAGCTAGCT'''                         # Valid DNA sequence\n",
        "\n",
        "sequence_2 = '''>sequence_2\n",
        "ATCGATCGATCGATCGATCGATCGATCG\n",
        "AGCTAGCTAGCTABJGCXXTANGGIGCT'''\n",
        "\n",
        "seq_1 = extract_sequence_from_fasta(sequence_1)\n",
        "seq_2 = extract_sequence_from_fasta(sequence_2)\n",
        "\n",
        "if is_dna_sequence(seq_1) == True:\n",
        "  print(\"Sequence 1 is a valid DNA sequence\")\n",
        "else:\n",
        "  print(\"Sequence 1 is an invalid DNA sequence\")\n",
        "\n",
        "if is_dna_sequence(seq_2) == True:\n",
        "  print(\"Sequence 2 is a valid DNA sequence\")\n",
        "else:\n",
        "  print(\"Sequence 2 is an invalid DNA sequence\")"
      ],
      "metadata": {
        "colab": {
          "base_uri": "https://localhost:8080/"
        },
        "id": "xXtwB9arj6ii",
        "outputId": "331c8120-59b0-403e-e109-155150e06c50"
      },
      "execution_count": 31,
      "outputs": [
        {
          "output_type": "stream",
          "name": "stdout",
          "text": [
            "Sequence 1 is a valid DNA sequence\n",
            "Sequence 2 is an invalid DNA sequence\n"
          ]
        }
      ]
    }
  ]
}